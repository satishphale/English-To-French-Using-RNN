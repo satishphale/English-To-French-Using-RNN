{
  "nbformat": 4,
  "nbformat_minor": 0,
  "metadata": {
    "accelerator": "GPU",
    "colab": {
      "name": "EnglishToFrench.ipynb",
      "provenance": [],
      "mount_file_id": "1HB9H21MlDcKLQ76o5VxPAnJdOE6FekmY",
      "authorship_tag": "ABX9TyNhjVen7NZgZRDgNIMRq9rk",
      "include_colab_link": true
    },
    "kernelspec": {
      "display_name": "Python 3",
      "name": "python3"
    },
    "language_info": {
      "name": "python"
    }
  },
  "cells": [
    {
      "cell_type": "markdown",
      "metadata": {
        "id": "view-in-github",
        "colab_type": "text"
      },
      "source": [
        "<a href=\"https://colab.research.google.com/github/satishphale/English-To-French-Using-RNN/blob/main/EnglishToFrench.ipynb\" target=\"_parent\"><img src=\"https://colab.research.google.com/assets/colab-badge.svg\" alt=\"Open In Colab\"/></a>"
      ]
    },
    {
      "cell_type": "code",
      "metadata": {
        "id": "Ew2XKcQ1F2UJ"
      },
      "source": [
        "import collections\n",
        "import os\n",
        "import helper\n",
        "import numpy as np\n",
        "import tensorflow as tf\n",
        "import sys  \n",
        "sys.path.insert(0, '/content/drive/MyDrive/RP/')\n",
        "#import project_tests as tests\n",
        "\n",
        "from keras.preprocessing.text import Tokenizer\n",
        "from keras.preprocessing.sequence import pad_sequences\n",
        "from keras.models import Model, Sequential\n",
        "from keras.layers import GRU, Input, Dense, TimeDistributed, Activation, RepeatVector, Bidirectional, Dropout, LSTM\n",
        "from keras.layers.embeddings import Embedding\n",
        "from keras.optimizers import Adam\n",
        "from keras.losses import sparse_categorical_crossentropy"
      ],
      "execution_count": null,
      "outputs": []
    },
    {
      "cell_type": "code",
      "metadata": {
        "colab": {
          "base_uri": "https://localhost:8080/"
        },
        "id": "hcQLgSI9Hqpo",
        "outputId": "65e4e1eb-a279-4df1-a72c-95a3aa35ec9f"
      },
      "source": [
        "from tensorflow.python.client import device_lib\n",
        "print(device_lib.list_local_devices())"
      ],
      "execution_count": null,
      "outputs": [
        {
          "output_type": "stream",
          "text": [
            "[name: \"/device:CPU:0\"\n",
            "device_type: \"CPU\"\n",
            "memory_limit: 268435456\n",
            "locality {\n",
            "}\n",
            "incarnation: 784065361305117463\n",
            ", name: \"/device:GPU:0\"\n",
            "device_type: \"GPU\"\n",
            "memory_limit: 11344216064\n",
            "locality {\n",
            "  bus_id: 1\n",
            "  links {\n",
            "  }\n",
            "}\n",
            "incarnation: 1453942731463917767\n",
            "physical_device_desc: \"device: 0, name: Tesla K80, pci bus id: 0000:00:04.0, compute capability: 3.7\"\n",
            "]\n"
          ],
          "name": "stdout"
        }
      ]
    },
    {
      "cell_type": "code",
      "metadata": {
        "id": "5SR32E0eJCbE"
      },
      "source": [
        "def load_data(path):\n",
        "    \"\"\"\n",
        "    Load dataset\n",
        "    \"\"\"\n",
        "    input_file = os.path.join(path)\n",
        "    with open(input_file, \"r\") as f:\n",
        "        data = f.read()\n",
        "\n",
        "    return data.split('\\n')"
      ],
      "execution_count": null,
      "outputs": []
    },
    {
      "cell_type": "code",
      "metadata": {
        "colab": {
          "base_uri": "https://localhost:8080/"
        },
        "id": "rd9mrletH6zo",
        "outputId": "98d420f9-850d-4186-d05f-4726cd67c42e"
      },
      "source": [
        "# Load English data\n",
        "english_sentences = load_data('/content/drive/MyDrive/RP/small_vocab_en')\n",
        "# Load French data\n",
        "french_sentences = load_data('/content/drive/MyDrive/RP/small_vocab_fr')\n",
        "\n",
        "print('Dataset Loaded')"
      ],
      "execution_count": null,
      "outputs": [
        {
          "output_type": "stream",
          "text": [
            "Dataset Loaded\n"
          ],
          "name": "stdout"
        }
      ]
    },
    {
      "cell_type": "code",
      "metadata": {
        "colab": {
          "base_uri": "https://localhost:8080/"
        },
        "id": "x7k5rMjcICHU",
        "outputId": "9742b54d-0e81-47d5-85b5-cdcaf00162ba"
      },
      "source": [
        "for sample_i in range(5):\n",
        "    print('English sample {}:  {}'.format(sample_i + 1, english_sentences[sample_i]))\n",
        "    print('French sample {}:  {}\\n'.format(sample_i + 1, french_sentences[sample_i]))"
      ],
      "execution_count": null,
      "outputs": [
        {
          "output_type": "stream",
          "text": [
            "English sample 1:  new jersey is sometimes quiet during autumn , and it is snowy in april .\n",
            "French sample 1:  new jersey est parfois calme pendant l' automne , et il est neigeux en avril .\n",
            "\n",
            "English sample 2:  the united states is usually chilly during july , and it is usually freezing in november .\n",
            "French sample 2:  les états-unis est généralement froid en juillet , et il gèle habituellement en novembre .\n",
            "\n",
            "English sample 3:  california is usually quiet during march , and it is usually hot in june .\n",
            "French sample 3:  california est généralement calme en mars , et il est généralement chaud en juin .\n",
            "\n",
            "English sample 4:  the united states is sometimes mild during june , and it is cold in september .\n",
            "French sample 4:  les états-unis est parfois légère en juin , et il fait froid en septembre .\n",
            "\n",
            "English sample 5:  your least liked fruit is the grape , but my least liked is the apple .\n",
            "French sample 5:  votre moins aimé fruit est le raisin , mais mon moins aimé est la pomme .\n",
            "\n"
          ],
          "name": "stdout"
        }
      ]
    },
    {
      "cell_type": "code",
      "metadata": {
        "colab": {
          "base_uri": "https://localhost:8080/"
        },
        "id": "EJd6x7OMJRYw",
        "outputId": "29688783-c0e5-4656-b7a9-101c51a2413d"
      },
      "source": [
        "english_words_counter = collections.Counter([word for sentence in english_sentences for word in sentence.split()])\n",
        "french_words_counter = collections.Counter([word for sentence in french_sentences for word in sentence.split()])\n",
        "\n",
        "print('{} English words.'.format(len([word for sentence in english_sentences for word in sentence.split()])))\n",
        "print('{} unique English words.'.format(len(english_words_counter)))\n",
        "print('10 Most common words in the English dataset:')\n",
        "print('\"' + '\" \"'.join(list(zip(*english_words_counter.most_common(10)))[0]) + '\"')\n",
        "print()\n",
        "print('{} French words.'.format(len([word for sentence in french_sentences for word in sentence.split()])))\n",
        "print('{} unique French words.'.format(len(french_words_counter)))\n",
        "print('10 Most common words in the French dataset:')\n",
        "print('\"' + '\" \"'.join(list(zip(*french_words_counter.most_common(10)))[0]) + '\"')"
      ],
      "execution_count": null,
      "outputs": [
        {
          "output_type": "stream",
          "text": [
            "1823250 English words.\n",
            "227 unique English words.\n",
            "10 Most common words in the English dataset:\n",
            "\"is\" \",\" \".\" \"in\" \"it\" \"during\" \"the\" \"but\" \"and\" \"sometimes\"\n",
            "\n",
            "1961295 French words.\n",
            "355 unique French words.\n",
            "10 Most common words in the French dataset:\n",
            "\"est\" \".\" \",\" \"en\" \"il\" \"les\" \"mais\" \"et\" \"la\" \"parfois\"\n"
          ],
          "name": "stdout"
        }
      ]
    },
    {
      "cell_type": "code",
      "metadata": {
        "colab": {
          "base_uri": "https://localhost:8080/"
        },
        "id": "OVAsKoHyJWe0",
        "outputId": "822ae5d3-3956-42cc-e651-3a9b0bd77bd6"
      },
      "source": [
        "def tokenize(x):\n",
        "    \"\"\"\n",
        "    Tokenize x\n",
        "    :param x: List of sentences/strings to be tokenized\n",
        "    :return: Tuple of (tokenized x data, tokenizer used to tokenize x)\n",
        "    \"\"\"\n",
        "    # TODO: Implement\n",
        "    tokenizer = Tokenizer()\n",
        "    tokenizer.fit_on_texts(x)\n",
        "    return tokenizer.texts_to_sequences(x), tokenizer\n",
        "\n",
        "#tests.test_tokenize(tokenize)\n",
        "\n",
        "# Tokenize Example output\n",
        "text_sentences = [\n",
        "    'The quick brown fox jumps over the lazy dog .',\n",
        "    'By Jove , my quick study of lexicography won a prize .',\n",
        "    'This is a short sentence .']\n",
        "text_tokenized, text_tokenizer = tokenize(text_sentences)\n",
        "print(text_tokenizer.word_index)\n",
        "print()\n",
        "for sample_i, (sent, token_sent) in enumerate(zip(text_sentences, text_tokenized)):\n",
        "    print('Sequence {} in x'.format(sample_i + 1))\n",
        "    print('  Input:  {}'.format(sent))\n",
        "    print('  Output: {}'.format(token_sent))"
      ],
      "execution_count": null,
      "outputs": [
        {
          "output_type": "stream",
          "text": [
            "{'the': 1, 'quick': 2, 'a': 3, 'brown': 4, 'fox': 5, 'jumps': 6, 'over': 7, 'lazy': 8, 'dog': 9, 'by': 10, 'jove': 11, 'my': 12, 'study': 13, 'of': 14, 'lexicography': 15, 'won': 16, 'prize': 17, 'this': 18, 'is': 19, 'short': 20, 'sentence': 21}\n",
            "\n",
            "Sequence 1 in x\n",
            "  Input:  The quick brown fox jumps over the lazy dog .\n",
            "  Output: [1, 2, 4, 5, 6, 7, 1, 8, 9]\n",
            "Sequence 2 in x\n",
            "  Input:  By Jove , my quick study of lexicography won a prize .\n",
            "  Output: [10, 11, 12, 2, 13, 14, 15, 16, 3, 17]\n",
            "Sequence 3 in x\n",
            "  Input:  This is a short sentence .\n",
            "  Output: [18, 19, 3, 20, 21]\n"
          ],
          "name": "stdout"
        }
      ]
    },
    {
      "cell_type": "code",
      "metadata": {
        "colab": {
          "base_uri": "https://localhost:8080/"
        },
        "id": "0amu2f-1Kzxs",
        "outputId": "cefa53cf-b8df-4b02-dea5-fbe3ccfdadc1"
      },
      "source": [
        "def pad(x, length=None):\n",
        "    \"\"\"\n",
        "    Pad x\n",
        "    :param x: List of sequences.\n",
        "    :param length: Length to pad the sequence to.  If None, use length of longest sequence in x.\n",
        "    :return: Padded numpy array of sequences\n",
        "    \"\"\"\n",
        "    # TODO: Implement\n",
        "    return pad_sequences(x, maxlen=length, padding='post')\n",
        "\n",
        "#tests.test_pad(pad)\n",
        "\n",
        "# Pad Tokenized output\n",
        "test_pad = pad(text_tokenized)\n",
        "for sample_i, (token_sent, pad_sent) in enumerate(zip(text_tokenized, test_pad)):\n",
        "    print('Sequence {} in x'.format(sample_i + 1))\n",
        "    print('  Input:  {}'.format(np.array(token_sent)))\n",
        "    print('  Output: {}'.format(pad_sent))"
      ],
      "execution_count": null,
      "outputs": [
        {
          "output_type": "stream",
          "text": [
            "Sequence 1 in x\n",
            "  Input:  [1 2 4 5 6 7 1 8 9]\n",
            "  Output: [1 2 4 5 6 7 1 8 9 0]\n",
            "Sequence 2 in x\n",
            "  Input:  [10 11 12  2 13 14 15 16  3 17]\n",
            "  Output: [10 11 12  2 13 14 15 16  3 17]\n",
            "Sequence 3 in x\n",
            "  Input:  [18 19  3 20 21]\n",
            "  Output: [18 19  3 20 21  0  0  0  0  0]\n"
          ],
          "name": "stdout"
        }
      ]
    },
    {
      "cell_type": "code",
      "metadata": {
        "colab": {
          "base_uri": "https://localhost:8080/"
        },
        "id": "ZH8QBi7UMV5V",
        "outputId": "9d6ee382-e6e7-4a12-db1f-7c3e89d923c3"
      },
      "source": [
        "def preprocess(x, y):\n",
        "    \"\"\"\n",
        "    Preprocess x and y\n",
        "    :param x: Feature List of sentences\n",
        "    :param y: Label List of sentences\n",
        "    :return: Tuple of (Preprocessed x, Preprocessed y, x tokenizer, y tokenizer)\n",
        "    \"\"\"\n",
        "    preprocess_x, x_tk = tokenize(x)\n",
        "    preprocess_y, y_tk = tokenize(y)\n",
        "\n",
        "    preprocess_x = pad(preprocess_x)\n",
        "    preprocess_y = pad(preprocess_y)\n",
        "\n",
        "    # Keras's sparse_categorical_crossentropy function requires the labels to be in 3 dimensions\n",
        "    preprocess_y = preprocess_y.reshape(*preprocess_y.shape, 1)\n",
        "\n",
        "    return preprocess_x, preprocess_y, x_tk, y_tk\n",
        "\n",
        "preproc_english_sentences, preproc_french_sentences, english_tokenizer, french_tokenizer =\\\n",
        "    preprocess(english_sentences, french_sentences)\n",
        "    \n",
        "max_english_sequence_length = preproc_english_sentences.shape[1]\n",
        "max_french_sequence_length = preproc_french_sentences.shape[1]\n",
        "english_vocab_size = len(english_tokenizer.word_index)\n",
        "french_vocab_size = len(french_tokenizer.word_index)\n",
        "\n",
        "print('Data Preprocessed')\n",
        "print(\"Max English sentence length:\", max_english_sequence_length)\n",
        "print(\"Max French sentence length:\", max_french_sequence_length)\n",
        "print(\"English vocabulary size:\", english_vocab_size)\n",
        "print(\"French vocabulary size:\", french_vocab_size)"
      ],
      "execution_count": null,
      "outputs": [
        {
          "output_type": "stream",
          "text": [
            "Data Preprocessed\n",
            "Max English sentence length: 15\n",
            "Max French sentence length: 21\n",
            "English vocabulary size: 199\n",
            "French vocabulary size: 344\n"
          ],
          "name": "stdout"
        }
      ]
    },
    {
      "cell_type": "code",
      "metadata": {
        "colab": {
          "base_uri": "https://localhost:8080/"
        },
        "id": "sg26bqpoOwOL",
        "outputId": "4bdbb1bd-5a1e-4c00-ed17-f07c68153434"
      },
      "source": [
        "def logits_to_text(logits, tokenizer):\n",
        "    \"\"\"\n",
        "    Turn logits from a neural network into text using the tokenizer\n",
        "    :param logits: Logits from a neural network\n",
        "    :param tokenizer: Keras Tokenizer fit on the labels\n",
        "    :return: String that represents the text of the logits\n",
        "    \"\"\"\n",
        "    index_to_words = {id: word for word, id in tokenizer.word_index.items()}\n",
        "    index_to_words[0] = '<PAD>'\n",
        "\n",
        "    return ' '.join([index_to_words[prediction] for prediction in np.argmax(logits, 1)])\n",
        "\n",
        "print('`logits_to_text` function loaded.')"
      ],
      "execution_count": null,
      "outputs": [
        {
          "output_type": "stream",
          "text": [
            "`logits_to_text` function loaded.\n"
          ],
          "name": "stdout"
        }
      ]
    },
    {
      "cell_type": "code",
      "metadata": {
        "colab": {
          "base_uri": "https://localhost:8080/"
        },
        "id": "T2aFk15E1enG",
        "outputId": "bb88967d-54a4-4512-f790-a24e82c6edce"
      },
      "source": [
        "def simple_model(input_shape, output_sequence_length, english_vocab_size, french_vocab_size):\n",
        "    \"\"\"\n",
        "    Build and train a basic RNN on x and y\n",
        "    :param input_shape: Tuple of input shape\n",
        "    :param output_sequence_length: Length of output sequence\n",
        "    :param english_vocab_size: Number of unique English words in the dataset\n",
        "    :param french_vocab_size: Number of unique French words in the dataset\n",
        "    :return: Keras model built, but not trained\n",
        "    \"\"\"\n",
        "    # Hyperparameters\n",
        "    learning_rate = 0.005\n",
        "    \n",
        "    # TODO: Build the layers\n",
        "    model = Sequential()\n",
        "    model.add(GRU(256, input_shape=input_shape[1:], return_sequences=True))\n",
        "    model.add(TimeDistributed(Dense(1024, activation='relu')))\n",
        "    model.add(Dropout(0.5))\n",
        "    model.add(TimeDistributed(Dense(french_vocab_size, activation='softmax'))) \n",
        "\n",
        "    # Compile model\n",
        "    model.compile(loss=sparse_categorical_crossentropy,\n",
        "                  optimizer=Adam(learning_rate),\n",
        "                  metrics=['accuracy'])\n",
        "    return model\n",
        "\n",
        "#tests.test_simple_model(simple_model)\n",
        "\n",
        "# Reshaping the input to work with a basic RNN\n",
        "tmp_x = pad(preproc_english_sentences, max_french_sequence_length)\n",
        "tmp_x = tmp_x.reshape((-1, preproc_french_sentences.shape[-2], 1))\n",
        "\n",
        "# Train the neural network\n",
        "simple_rnn_model = simple_model(\n",
        "    tmp_x.shape,\n",
        "    max_french_sequence_length,\n",
        "    english_vocab_size,\n",
        "    french_vocab_size)\n",
        "\n",
        "print(simple_rnn_model.summary())\n",
        "\n",
        "checkpoint_path = \"training_1/cp.ckpt\"\n",
        "checkpoint_dir = os.path.dirname(checkpoint_path)\n",
        "\n",
        "# Create a callback that saves the model's weights\n",
        "cp_callback = tf.keras.callbacks.ModelCheckpoint(filepath=checkpoint_path,\n",
        "                                                 save_weights_only=True,\n",
        "                                                 verbose=1)\n",
        "\n",
        "\n",
        "simple_rnn_model.fit(tmp_x, preproc_french_sentences, batch_size=1024, epochs=10, validation_split=0.2,callbacks=[cp_callback])\n",
        "\n",
        "# Print prediction(s)\n",
        "print(logits_to_text(simple_rnn_model.predict(tmp_x[:1])[0], french_tokenizer))"
      ],
      "execution_count": null,
      "outputs": [
        {
          "output_type": "stream",
          "text": [
            "Model: \"sequential_1\"\n",
            "_________________________________________________________________\n",
            "Layer (type)                 Output Shape              Param #   \n",
            "=================================================================\n",
            "gru_1 (GRU)                  (None, 21, 256)           198912    \n",
            "_________________________________________________________________\n",
            "time_distributed_2 (TimeDist (None, 21, 1024)          263168    \n",
            "_________________________________________________________________\n",
            "dropout_1 (Dropout)          (None, 21, 1024)          0         \n",
            "_________________________________________________________________\n",
            "time_distributed_3 (TimeDist (None, 21, 344)           352600    \n",
            "=================================================================\n",
            "Total params: 814,680\n",
            "Trainable params: 814,680\n",
            "Non-trainable params: 0\n",
            "_________________________________________________________________\n",
            "None\n",
            "Epoch 1/10\n",
            "108/108 [==============================] - 39s 122ms/step - loss: 2.5374 - accuracy: 0.4767 - val_loss: nan - val_accuracy: 0.6386\n",
            "\n",
            "Epoch 00001: saving model to training_1/cp.ckpt\n",
            "Epoch 2/10\n",
            "108/108 [==============================] - 12s 109ms/step - loss: 1.2773 - accuracy: 0.6317 - val_loss: nan - val_accuracy: 0.6745\n",
            "\n",
            "Epoch 00002: saving model to training_1/cp.ckpt\n",
            "Epoch 3/10\n",
            "108/108 [==============================] - 12s 108ms/step - loss: 1.1068 - accuracy: 0.6655 - val_loss: nan - val_accuracy: 0.6940\n",
            "\n",
            "Epoch 00003: saving model to training_1/cp.ckpt\n",
            "Epoch 4/10\n",
            "108/108 [==============================] - 12s 108ms/step - loss: 1.0149 - accuracy: 0.6812 - val_loss: nan - val_accuracy: 0.7044\n",
            "\n",
            "Epoch 00004: saving model to training_1/cp.ckpt\n",
            "Epoch 5/10\n",
            "108/108 [==============================] - 12s 108ms/step - loss: 0.9568 - accuracy: 0.6912 - val_loss: nan - val_accuracy: 0.7180\n",
            "\n",
            "Epoch 00005: saving model to training_1/cp.ckpt\n",
            "Epoch 6/10\n",
            "108/108 [==============================] - 12s 108ms/step - loss: 0.9071 - accuracy: 0.7033 - val_loss: nan - val_accuracy: 0.7196\n",
            "\n",
            "Epoch 00006: saving model to training_1/cp.ckpt\n",
            "Epoch 7/10\n",
            "108/108 [==============================] - 12s 108ms/step - loss: 0.8672 - accuracy: 0.7120 - val_loss: nan - val_accuracy: 0.7217\n",
            "\n",
            "Epoch 00007: saving model to training_1/cp.ckpt\n",
            "Epoch 8/10\n",
            "108/108 [==============================] - 12s 108ms/step - loss: 0.8920 - accuracy: 0.7009 - val_loss: nan - val_accuracy: 0.7386\n",
            "\n",
            "Epoch 00008: saving model to training_1/cp.ckpt\n",
            "Epoch 9/10\n",
            "108/108 [==============================] - 12s 108ms/step - loss: 0.8078 - accuracy: 0.7274 - val_loss: nan - val_accuracy: 0.7563\n",
            "\n",
            "Epoch 00009: saving model to training_1/cp.ckpt\n",
            "Epoch 10/10\n",
            "108/108 [==============================] - 12s 108ms/step - loss: 0.7722 - accuracy: 0.7389 - val_loss: nan - val_accuracy: 0.7778\n",
            "\n",
            "Epoch 00010: saving model to training_1/cp.ckpt\n",
            "new jersey est parfois chaud en mois et il est est neigeux en <PAD> <PAD> <PAD> <PAD> <PAD> <PAD> <PAD> <PAD>\n"
          ],
          "name": "stdout"
        }
      ]
    },
    {
      "cell_type": "code",
      "metadata": {
        "colab": {
          "base_uri": "https://localhost:8080/"
        },
        "id": "2ukq-hwya-ko",
        "outputId": "a0759a4d-90d5-403f-ea88-8a488348ac6c"
      },
      "source": [
        "os.listdir(checkpoint_dir)"
      ],
      "execution_count": null,
      "outputs": [
        {
          "output_type": "execute_result",
          "data": {
            "text/plain": [
              "['cp.ckpt.data-00000-of-00001', 'checkpoint', 'cp.ckpt.index']"
            ]
          },
          "metadata": {
            "tags": []
          },
          "execution_count": 20
        }
      ]
    },
    {
      "cell_type": "code",
      "metadata": {
        "colab": {
          "base_uri": "https://localhost:8080/"
        },
        "id": "p7bqhjLga-Vq",
        "outputId": "b6d6ebcd-a110-4110-bad4-4a6ebd2af67c"
      },
      "source": [
        "# Create a basic model instance\n",
        "simple_rnn_model = simple_model(\n",
        "    tmp_x.shape,\n",
        "    max_french_sequence_length,\n",
        "    english_vocab_size,\n",
        "    french_vocab_size)\n",
        "\n",
        "print(logits_to_text(simple_rnn_model.predict(tmp_x[:1])[0], french_tokenizer))\n",
        "# # Evaluate the model\n",
        "# loss, acc = simple_rnn_model.evaluate(test_images, test_labels, verbose=2)\n",
        "# print(\"Untrained model, accuracy: {:5.2f}%\".format(100 * acc))"
      ],
      "execution_count": null,
      "outputs": [
        {
          "output_type": "stream",
          "text": [
            "mangue mangue oiseaux oiseaux mangue oiseaux mangue oiseaux oiseaux oiseaux mangue oiseaux mangue oiseaux oiseaux pêches pêches pêches pêches aux aux\n"
          ],
          "name": "stdout"
        }
      ]
    },
    {
      "cell_type": "code",
      "metadata": {
        "colab": {
          "base_uri": "https://localhost:8080/"
        },
        "id": "dH-VehmIa-JI",
        "outputId": "6f0efafc-ff2b-4538-b985-ee220a0c07fb"
      },
      "source": [
        "# Loads the weights\n",
        "simple_rnn_model.load_weights(checkpoint_path)\n",
        "\n",
        "\n",
        "print(logits_to_text(simple_rnn_model.predict(tmp_x[:1])[0], french_tokenizer))\n",
        "# Re-evaluate the model\n",
        "# loss, acc = model.evaluate(test_images, test_labels, verbose=2)\n",
        "# print(\"Restored model, accuracy: {:5.2f}%\".format(100 * acc))"
      ],
      "execution_count": null,
      "outputs": [
        {
          "output_type": "stream",
          "text": [
            "new jersey est parfois chaud en mois et il est est neigeux en <PAD> <PAD> <PAD> <PAD> <PAD> <PAD> <PAD> <PAD>\n"
          ],
          "name": "stdout"
        }
      ]
    },
    {
      "cell_type": "code",
      "metadata": {
        "id": "sXgITOsT1ks2",
        "colab": {
          "base_uri": "https://localhost:8080/"
        },
        "outputId": "3dc6b2d6-3792-484b-befc-f46bd01d2626"
      },
      "source": [
        "# Print prediction(s)\n",
        "print(\"Prediction:\")\n",
        "print(logits_to_text(simple_rnn_model.predict(tmp_x[:1])[0], french_tokenizer))\n",
        "\n",
        "print(\"\\nCorrect Translation:\")\n",
        "print(french_sentences[:1])\n",
        "\n",
        "print(\"\\nOriginal text:\")\n",
        "print(english_sentences[:1])"
      ],
      "execution_count": null,
      "outputs": [
        {
          "output_type": "stream",
          "text": [
            "Prediction:\n",
            "new jersey est parfois chaud en mois et il est est neigeux en <PAD> <PAD> <PAD> <PAD> <PAD> <PAD> <PAD> <PAD>\n",
            "\n",
            "Correct Translation:\n",
            "[\"new jersey est parfois calme pendant l' automne , et il est neigeux en avril .\"]\n",
            "\n",
            "Original text:\n",
            "['new jersey is sometimes quiet during autumn , and it is snowy in april .']\n"
          ],
          "name": "stdout"
        }
      ]
    },
    {
      "cell_type": "code",
      "metadata": {
        "colab": {
          "base_uri": "https://localhost:8080/"
        },
        "id": "JuksJCcR27MK",
        "outputId": "386a01ba-0004-4ce2-de6f-1804067d1071"
      },
      "source": [
        "def embed_model(input_shape, output_sequence_length, english_vocab_size, french_vocab_size):\n",
        "    \"\"\"\n",
        "    Build and train a RNN model using word embedding on x and y\n",
        "    :param input_shape: Tuple of input shape\n",
        "    :param output_sequence_length: Length of output sequence\n",
        "    :param english_vocab_size: Number of unique English words in the dataset\n",
        "    :param french_vocab_size: Number of unique French words in the dataset\n",
        "    :return: Keras model built, but not trained\n",
        "    \"\"\"\n",
        "    # TODO: Implement\n",
        "\n",
        "    # Hyperparameters\n",
        "    learning_rate = 0.005\n",
        "    \n",
        "    # TODO: Build the layers\n",
        "    model = Sequential()\n",
        "    model.add(Embedding(english_vocab_size, 256, input_length=input_shape[1], input_shape=input_shape[1:]))\n",
        "    model.add(GRU(256, return_sequences=True))    \n",
        "    model.add(TimeDistributed(Dense(1024, activation='relu')))\n",
        "    model.add(Dropout(0.5))\n",
        "    model.add(TimeDistributed(Dense(french_vocab_size, activation='softmax'))) \n",
        "\n",
        "    # Compile model\n",
        "    model.compile(loss=sparse_categorical_crossentropy,\n",
        "                  optimizer=Adam(learning_rate),\n",
        "                  metrics=['accuracy'])\n",
        "    return model\n",
        "\n",
        "#tests.test_embed_model(embed_model)\n",
        "\n",
        "# TODO: Reshape the input\n",
        "tmp_x = pad(preproc_english_sentences, preproc_french_sentences.shape[1])\n",
        "tmp_x = tmp_x.reshape((-1, preproc_french_sentences.shape[-2]))\n",
        "\n",
        "# TODO: Train the neural network\n",
        "embed_rnn_model = embed_model(\n",
        "    tmp_x.shape,\n",
        "    preproc_french_sentences.shape[1],\n",
        "    len(english_tokenizer.word_index)+1,\n",
        "    len(french_tokenizer.word_index)+1)\n",
        "\n",
        "embed_rnn_model.summary()\n",
        "\n",
        "embed_rnn_model.fit(tmp_x, preproc_french_sentences, batch_size=1024, epochs=10, validation_split=0.2)\n",
        "\n",
        "# TODO: Print prediction(s)\n",
        "print(logits_to_text(embed_rnn_model.predict(tmp_x[:1])[0], french_tokenizer))"
      ],
      "execution_count": null,
      "outputs": [
        {
          "output_type": "stream",
          "text": [
            "Model: \"sequential_1\"\n",
            "_________________________________________________________________\n",
            "Layer (type)                 Output Shape              Param #   \n",
            "=================================================================\n",
            "embedding (Embedding)        (None, 21, 256)           51200     \n",
            "_________________________________________________________________\n",
            "gru_1 (GRU)                  (None, 21, 256)           394752    \n",
            "_________________________________________________________________\n",
            "time_distributed_2 (TimeDist (None, 21, 1024)          263168    \n",
            "_________________________________________________________________\n",
            "dropout_1 (Dropout)          (None, 21, 1024)          0         \n",
            "_________________________________________________________________\n",
            "time_distributed_3 (TimeDist (None, 21, 345)           353625    \n",
            "=================================================================\n",
            "Total params: 1,062,745\n",
            "Trainable params: 1,062,745\n",
            "Non-trainable params: 0\n",
            "_________________________________________________________________\n",
            "Epoch 1/10\n",
            "108/108 [==============================] - 9s 69ms/step - loss: 2.3189 - accuracy: 0.5503 - val_loss: 0.4931 - val_accuracy: 0.8406\n",
            "Epoch 2/10\n",
            "108/108 [==============================] - 7s 65ms/step - loss: 0.4640 - accuracy: 0.8499 - val_loss: 0.3056 - val_accuracy: 0.8967\n",
            "Epoch 3/10\n",
            "108/108 [==============================] - 7s 65ms/step - loss: 0.3126 - accuracy: 0.8955 - val_loss: 0.2520 - val_accuracy: 0.9151\n",
            "Epoch 4/10\n",
            "108/108 [==============================] - 7s 65ms/step - loss: 0.2557 - accuracy: 0.9140 - val_loss: 0.2176 - val_accuracy: 0.9253\n",
            "Epoch 5/10\n",
            "108/108 [==============================] - 7s 65ms/step - loss: 0.2275 - accuracy: 0.9225 - val_loss: 0.2082 - val_accuracy: 0.9280\n",
            "Epoch 6/10\n",
            "108/108 [==============================] - 7s 65ms/step - loss: 0.2130 - accuracy: 0.9265 - val_loss: 0.2008 - val_accuracy: 0.9301\n",
            "Epoch 7/10\n",
            "108/108 [==============================] - 7s 65ms/step - loss: 0.2005 - accuracy: 0.9296 - val_loss: 0.1892 - val_accuracy: 0.9343\n",
            "Epoch 8/10\n",
            "108/108 [==============================] - 7s 66ms/step - loss: 0.1878 - accuracy: 0.9338 - val_loss: 0.1863 - val_accuracy: 0.9346\n",
            "Epoch 9/10\n",
            "108/108 [==============================] - 7s 66ms/step - loss: 0.1860 - accuracy: 0.9340 - val_loss: 0.1859 - val_accuracy: 0.9348\n",
            "Epoch 10/10\n",
            "108/108 [==============================] - 7s 66ms/step - loss: 0.1826 - accuracy: 0.9352 - val_loss: 0.1812 - val_accuracy: 0.9361\n",
            "new jersey est parfois calme en l' automne et il est neigeux en avril <PAD> <PAD> <PAD> <PAD> <PAD> <PAD> <PAD>\n"
          ],
          "name": "stdout"
        }
      ]
    },
    {
      "cell_type": "code",
      "metadata": {
        "colab": {
          "base_uri": "https://localhost:8080/"
        },
        "id": "HcdXlENw3Coq",
        "outputId": "03eaaec1-13d2-4cb8-dee8-8c5e0d4e9b98"
      },
      "source": [
        "# Print prediction(s)\n",
        "print(\"Prediction:\")\n",
        "print(logits_to_text(embed_rnn_model.predict(tmp_x[:1])[0], french_tokenizer))\n",
        "\n",
        "print(\"\\nCorrect Translation:\")\n",
        "print(french_sentences[:1])\n",
        "\n",
        "print(\"\\nOriginal text:\")\n",
        "print(english_sentences[:1])"
      ],
      "execution_count": null,
      "outputs": [
        {
          "output_type": "stream",
          "text": [
            "Prediction:\n",
            "new jersey est parfois calme en l' automne et il est neigeux en avril <PAD> <PAD> <PAD> <PAD> <PAD> <PAD> <PAD>\n",
            "\n",
            "Correct Translation:\n",
            "[\"new jersey est parfois calme pendant l' automne , et il est neigeux en avril .\"]\n",
            "\n",
            "Original text:\n",
            "['new jersey is sometimes quiet during autumn , and it is snowy in april .']\n"
          ],
          "name": "stdout"
        }
      ]
    },
    {
      "cell_type": "code",
      "metadata": {
        "colab": {
          "base_uri": "https://localhost:8080/"
        },
        "id": "F-o6uoif3mXd",
        "outputId": "6a25b0a4-4ce1-4116-f132-25ebd73ea4b7"
      },
      "source": [
        "def bd_model(input_shape, output_sequence_length, english_vocab_size, french_vocab_size):\n",
        "    \"\"\"\n",
        "    Build and train a bidirectional RNN model on x and y\n",
        "    :param input_shape: Tuple of input shape\n",
        "    :param output_sequence_length: Length of output sequence\n",
        "    :param english_vocab_size: Number of unique English words in the dataset\n",
        "    :param french_vocab_size: Number of unique French words in the dataset\n",
        "    :return: Keras model built, but not trained\n",
        "    \"\"\"\n",
        "    # TODO: Implement\n",
        "\n",
        "    # Hyperparameters\n",
        "    learning_rate = 0.003\n",
        "    \n",
        "    # TODO: Build the layers\n",
        "    model = Sequential()\n",
        "    model.add(Bidirectional(GRU(128, return_sequences=True), input_shape=input_shape[1:]))\n",
        "    model.add(TimeDistributed(Dense(1024, activation='relu')))\n",
        "    model.add(Dropout(0.5))\n",
        "    model.add(TimeDistributed(Dense(french_vocab_size, activation='softmax'))) \n",
        "\n",
        "    # Compile model\n",
        "    model.compile(loss=sparse_categorical_crossentropy,\n",
        "                  optimizer=Adam(learning_rate),\n",
        "                  metrics=['accuracy'])\n",
        "    return model\n",
        "\n",
        "#tests.test_bd_model(bd_model)\n",
        "\n",
        "# TODO: Reshape the input\n",
        "tmp_x = pad(preproc_english_sentences, preproc_french_sentences.shape[1])\n",
        "tmp_x = tmp_x.reshape((-1, preproc_french_sentences.shape[-2]))\n",
        "\n",
        "# TODO: Train and Print prediction(s)\n",
        "embed_rnn_model = embed_model(\n",
        "    tmp_x.shape,\n",
        "    preproc_french_sentences.shape[1],\n",
        "    len(english_tokenizer.word_index)+1,\n",
        "    len(french_tokenizer.word_index)+1)\n",
        "\n",
        "embed_rnn_model.summary()\n",
        "\n",
        "embed_rnn_model.fit(tmp_x, preproc_french_sentences, batch_size=1024, epochs=10, validation_split=0.2)\n",
        "\n",
        "print(logits_to_text(embed_rnn_model.predict(tmp_x[:1])[0], french_tokenizer))"
      ],
      "execution_count": null,
      "outputs": [
        {
          "output_type": "stream",
          "text": [
            "Model: \"sequential_2\"\n",
            "_________________________________________________________________\n",
            "Layer (type)                 Output Shape              Param #   \n",
            "=================================================================\n",
            "embedding_1 (Embedding)      (None, 21, 256)           51200     \n",
            "_________________________________________________________________\n",
            "gru_2 (GRU)                  (None, 21, 256)           394752    \n",
            "_________________________________________________________________\n",
            "time_distributed_4 (TimeDist (None, 21, 1024)          263168    \n",
            "_________________________________________________________________\n",
            "dropout_2 (Dropout)          (None, 21, 1024)          0         \n",
            "_________________________________________________________________\n",
            "time_distributed_5 (TimeDist (None, 21, 345)           353625    \n",
            "=================================================================\n",
            "Total params: 1,062,745\n",
            "Trainable params: 1,062,745\n",
            "Non-trainable params: 0\n",
            "_________________________________________________________________\n",
            "Epoch 1/10\n",
            "108/108 [==============================] - 9s 70ms/step - loss: 2.3702 - accuracy: 0.5424 - val_loss: 0.4958 - val_accuracy: 0.8413\n",
            "Epoch 2/10\n",
            "108/108 [==============================] - 7s 66ms/step - loss: 0.4666 - accuracy: 0.8495 - val_loss: 0.3068 - val_accuracy: 0.8967\n",
            "Epoch 3/10\n",
            "108/108 [==============================] - 7s 66ms/step - loss: 0.3137 - accuracy: 0.8952 - val_loss: 0.2554 - val_accuracy: 0.9124\n",
            "Epoch 4/10\n",
            "108/108 [==============================] - 7s 66ms/step - loss: 0.2610 - accuracy: 0.9112 - val_loss: 0.2254 - val_accuracy: 0.9226\n",
            "Epoch 5/10\n",
            "108/108 [==============================] - 7s 66ms/step - loss: 0.2288 - accuracy: 0.9216 - val_loss: 0.2041 - val_accuracy: 0.9289\n",
            "Epoch 6/10\n",
            "108/108 [==============================] - 7s 66ms/step - loss: 0.2099 - accuracy: 0.9271 - val_loss: 0.1991 - val_accuracy: 0.9301\n",
            "Epoch 7/10\n",
            "108/108 [==============================] - 7s 66ms/step - loss: 0.2015 - accuracy: 0.9295 - val_loss: 0.1905 - val_accuracy: 0.9342\n",
            "Epoch 8/10\n",
            "108/108 [==============================] - 7s 66ms/step - loss: 0.1913 - accuracy: 0.9327 - val_loss: 0.1890 - val_accuracy: 0.9340\n",
            "Epoch 9/10\n",
            "108/108 [==============================] - 7s 66ms/step - loss: 0.1848 - accuracy: 0.9341 - val_loss: 0.1855 - val_accuracy: 0.9350\n",
            "Epoch 10/10\n",
            "108/108 [==============================] - 7s 66ms/step - loss: 0.1801 - accuracy: 0.9356 - val_loss: 0.1848 - val_accuracy: 0.9356\n",
            "new jersey est parfois calme en l' de et il neigeux neigeux en avril <PAD> <PAD> <PAD> <PAD> <PAD> <PAD> <PAD>\n"
          ],
          "name": "stdout"
        }
      ]
    },
    {
      "cell_type": "code",
      "metadata": {
        "colab": {
          "base_uri": "https://localhost:8080/"
        },
        "id": "_dDDKNtg3m8n",
        "outputId": "c6c0f024-a78e-4ef2-b7fb-325553901ac1"
      },
      "source": [
        "# Print prediction(s)\n",
        "print(\"Prediction:\")\n",
        "print(logits_to_text(embed_rnn_model.predict(tmp_x[:1])[0], french_tokenizer))\n",
        "\n",
        "print(\"\\nCorrect Translation:\")\n",
        "print(french_sentences[:1])\n",
        "\n",
        "print(\"\\nOriginal text:\")\n",
        "print(english_sentences[:1])"
      ],
      "execution_count": null,
      "outputs": [
        {
          "output_type": "stream",
          "text": [
            "Prediction:\n",
            "new jersey est parfois calme en l' de et il neigeux neigeux en avril <PAD> <PAD> <PAD> <PAD> <PAD> <PAD> <PAD>\n",
            "\n",
            "Correct Translation:\n",
            "[\"new jersey est parfois calme pendant l' automne , et il est neigeux en avril .\"]\n",
            "\n",
            "Original text:\n",
            "['new jersey is sometimes quiet during autumn , and it is snowy in april .']\n"
          ],
          "name": "stdout"
        }
      ]
    },
    {
      "cell_type": "code",
      "metadata": {
        "colab": {
          "base_uri": "https://localhost:8080/"
        },
        "id": "oBodm0oG3rKh",
        "outputId": "4014b92a-7f36-434b-878b-62c1a6d94d48"
      },
      "source": [
        "def encdec_model(input_shape, output_sequence_length, english_vocab_size, french_vocab_size):\n",
        "    \"\"\"\n",
        "    Build and train an encoder-decoder model on x and y\n",
        "    :param input_shape: Tuple of input shape\n",
        "    :param output_sequence_length: Length of output sequence\n",
        "    :param english_vocab_size: Number of unique English words in the dataset\n",
        "    :param french_vocab_size: Number of unique French words in the dataset\n",
        "    :return: Keras model built, but not trained\n",
        "    \"\"\"\n",
        "    # OPTIONAL: Implement\n",
        "    \n",
        "    # Hyperparameters\n",
        "    learning_rate = 0.001\n",
        "    \n",
        "    # Build the layers    \n",
        "    model = Sequential()\n",
        "    # Encoder\n",
        "    model.add(GRU(256, input_shape=input_shape[1:], go_backwards=True))\n",
        "    model.add(RepeatVector(output_sequence_length))\n",
        "    # Decoder\n",
        "    model.add(GRU(256, return_sequences=True))\n",
        "    model.add(TimeDistributed(Dense(1024, activation='relu')))\n",
        "    model.add(Dropout(0.5))\n",
        "    model.add(TimeDistributed(Dense(french_vocab_size, activation='softmax')))\n",
        "\n",
        "    # Compile model\n",
        "    model.compile(loss=sparse_categorical_crossentropy,\n",
        "                  optimizer=Adam(learning_rate),\n",
        "                  metrics=['accuracy'])\n",
        "    \n",
        "    return model\n",
        "\n",
        "#tests.test_encdec_model(encdec_model)\n",
        "\n",
        "# Reshape the input\n",
        "tmp_x = pad(preproc_english_sentences, preproc_french_sentences.shape[1])\n",
        "tmp_x = tmp_x.reshape((-1, preproc_french_sentences.shape[-2], 1))\n",
        "\n",
        "# Train and Print prediction(s)\n",
        "encdec_rnn_model = encdec_model(\n",
        "    tmp_x.shape,\n",
        "    preproc_french_sentences.shape[1],\n",
        "    len(english_tokenizer.word_index)+1,\n",
        "    len(french_tokenizer.word_index)+1)\n",
        "\n",
        "encdec_rnn_model.summary()\n",
        "\n",
        "encdec_rnn_model.fit(tmp_x, preproc_french_sentences, batch_size=1024, epochs=10, validation_split=0.2)"
      ],
      "execution_count": null,
      "outputs": [
        {
          "output_type": "stream",
          "text": [
            "Model: \"sequential_3\"\n",
            "_________________________________________________________________\n",
            "Layer (type)                 Output Shape              Param #   \n",
            "=================================================================\n",
            "gru_3 (GRU)                  (None, 256)               198912    \n",
            "_________________________________________________________________\n",
            "repeat_vector (RepeatVector) (None, 21, 256)           0         \n",
            "_________________________________________________________________\n",
            "gru_4 (GRU)                  (None, 21, 256)           394752    \n",
            "_________________________________________________________________\n",
            "time_distributed_6 (TimeDist (None, 21, 1024)          263168    \n",
            "_________________________________________________________________\n",
            "dropout_3 (Dropout)          (None, 21, 1024)          0         \n",
            "_________________________________________________________________\n",
            "time_distributed_7 (TimeDist (None, 21, 345)           353625    \n",
            "=================================================================\n",
            "Total params: 1,210,457\n",
            "Trainable params: 1,210,457\n",
            "Non-trainable params: 0\n",
            "_________________________________________________________________\n",
            "Epoch 1/10\n",
            "108/108 [==============================] - 11s 77ms/step - loss: 3.0665 - accuracy: 0.4219 - val_loss: 1.7503 - val_accuracy: 0.5770\n",
            "Epoch 2/10\n",
            "108/108 [==============================] - 8s 72ms/step - loss: 1.6971 - accuracy: 0.5691 - val_loss: 1.5010 - val_accuracy: 0.5988\n",
            "Epoch 3/10\n",
            "108/108 [==============================] - 8s 72ms/step - loss: 1.4524 - accuracy: 0.6058 - val_loss: 1.3114 - val_accuracy: 0.6402\n",
            "Epoch 4/10\n",
            "108/108 [==============================] - 8s 73ms/step - loss: 1.3489 - accuracy: 0.6278 - val_loss: 1.2533 - val_accuracy: 0.6536\n",
            "Epoch 5/10\n",
            "108/108 [==============================] - 8s 73ms/step - loss: 1.2818 - accuracy: 0.6439 - val_loss: 1.2086 - val_accuracy: 0.6584\n",
            "Epoch 6/10\n",
            "108/108 [==============================] - 8s 73ms/step - loss: 1.2403 - accuracy: 0.6509 - val_loss: 1.1598 - val_accuracy: 0.6680\n",
            "Epoch 7/10\n",
            "108/108 [==============================] - 8s 73ms/step - loss: 1.1846 - accuracy: 0.6626 - val_loss: 1.1055 - val_accuracy: 0.6799\n",
            "Epoch 8/10\n",
            "108/108 [==============================] - 8s 73ms/step - loss: 1.1581 - accuracy: 0.6666 - val_loss: 1.0859 - val_accuracy: 0.6841\n",
            "Epoch 9/10\n",
            "108/108 [==============================] - 8s 73ms/step - loss: 1.1144 - accuracy: 0.6760 - val_loss: 1.0758 - val_accuracy: 0.6861\n",
            "Epoch 10/10\n",
            "108/108 [==============================] - 8s 73ms/step - loss: 1.1123 - accuracy: 0.6758 - val_loss: 1.0447 - val_accuracy: 0.6930\n"
          ],
          "name": "stdout"
        },
        {
          "output_type": "execute_result",
          "data": {
            "text/plain": [
              "<tensorflow.python.keras.callbacks.History at 0x7f1820343b10>"
            ]
          },
          "metadata": {
            "tags": []
          },
          "execution_count": 24
        }
      ]
    },
    {
      "cell_type": "code",
      "metadata": {
        "colab": {
          "base_uri": "https://localhost:8080/"
        },
        "id": "DC2oTbIa4KwK",
        "outputId": "8b08c995-91aa-40c0-9fe1-51231ca4c299"
      },
      "source": [
        "# Print prediction(s)\n",
        "print(\"Prediction:\")\n",
        "print(logits_to_text(encdec_rnn_model.predict(tmp_x[:1])[0], french_tokenizer))\n",
        "\n",
        "print(\"\\nCorrect Translation:\")\n",
        "print(french_sentences[:1])\n",
        "\n",
        "print(\"\\nOriginal text:\")\n",
        "print(english_sentences[:1])"
      ],
      "execution_count": null,
      "outputs": [
        {
          "output_type": "stream",
          "text": [
            "Prediction:\n",
            "new jersey est parfois chaud en mois mais il est est en en <PAD> <PAD> <PAD> <PAD> <PAD> <PAD> <PAD> <PAD>\n",
            "\n",
            "Correct Translation:\n",
            "[\"new jersey est parfois calme pendant l' automne , et il est neigeux en avril .\"]\n",
            "\n",
            "Original text:\n",
            "['new jersey is sometimes quiet during autumn , and it is snowy in april .']\n"
          ],
          "name": "stdout"
        }
      ]
    },
    {
      "cell_type": "code",
      "metadata": {
        "colab": {
          "base_uri": "https://localhost:8080/"
        },
        "id": "u1dWDOAx4Xms",
        "outputId": "a05b5ad0-7dab-4182-a83a-0eeefc1da656"
      },
      "source": [
        "def model_final(input_shape, output_sequence_length, english_vocab_size, french_vocab_size):\n",
        "    \"\"\"\n",
        "    Build and train a model that incorporates embedding, encoder-decoder, and bidirectional RNN on x and y\n",
        "    :param input_shape: Tuple of input shape\n",
        "    :param output_sequence_length: Length of output sequence\n",
        "    :param english_vocab_size: Number of unique English words in the dataset\n",
        "    :param french_vocab_size: Number of unique French words in the dataset\n",
        "    :return: Keras model built, but not trained\n",
        "    \"\"\"\n",
        "    # TODO: Implement\n",
        "\n",
        "    # Hyperparameters\n",
        "    learning_rate = 0.003\n",
        "    \n",
        "    # Build the layers    \n",
        "    model = Sequential()\n",
        "    # Embedding\n",
        "    model.add(Embedding(english_vocab_size, 128, input_length=input_shape[1],\n",
        "                         input_shape=input_shape[1:]))\n",
        "    # Encoder\n",
        "    model.add(Bidirectional(GRU(128)))\n",
        "    model.add(RepeatVector(output_sequence_length))\n",
        "    # Decoder\n",
        "    model.add(Bidirectional(GRU(128, return_sequences=True)))\n",
        "    model.add(TimeDistributed(Dense(512, activation='relu')))\n",
        "    model.add(Dropout(0.5))\n",
        "    model.add(TimeDistributed(Dense(french_vocab_size, activation='softmax')))\n",
        "    model.compile(loss=sparse_categorical_crossentropy,\n",
        "                  optimizer=Adam(learning_rate),\n",
        "                  metrics=['accuracy'])\n",
        "    return model\n",
        "\n",
        "#tests.test_model_final(model_final)\n",
        "\n",
        "print('Final Model Loaded')"
      ],
      "execution_count": null,
      "outputs": [
        {
          "output_type": "stream",
          "text": [
            "Final Model Loaded\n"
          ],
          "name": "stdout"
        }
      ]
    },
    {
      "cell_type": "code",
      "metadata": {
        "colab": {
          "base_uri": "https://localhost:8080/"
        },
        "id": "k2xtwNdS4nJF",
        "outputId": "96e49707-143c-4730-8173-6f47f0557504"
      },
      "source": [
        "def final_predictions(x, y, x_tk, y_tk):\n",
        "    \"\"\"\n",
        "    Gets predictions using the final model\n",
        "    :param x: Preprocessed English data\n",
        "    :param y: Preprocessed French data\n",
        "    :param x_tk: English tokenizer\n",
        "    :param y_tk: French tokenizer\n",
        "    \"\"\"\n",
        "    # TODO: Train neural network using model_final\n",
        "    model = model_final(x.shape,y.shape[1],\n",
        "                        len(x_tk.word_index)+1,\n",
        "                        len(y_tk.word_index)+1)\n",
        "    model.summary()\n",
        "    model.fit(x, y, batch_size=1024, epochs=25, validation_split=0.2)\n",
        "\n",
        "    \n",
        "    ## DON'T EDIT ANYTHING BELOW THIS LINE\n",
        "    y_id_to_word = {value: key for key, value in y_tk.word_index.items()}\n",
        "    y_id_to_word[0] = '<PAD>'\n",
        "\n",
        "    sentence = 'he saw a old yellow truck'\n",
        "    sentence = [x_tk.word_index[word] for word in sentence.split()]\n",
        "    sentence = pad_sequences([sentence], maxlen=x.shape[-1], padding='post')\n",
        "    sentences = np.array([sentence[0], x[0]])\n",
        "    predictions = model.predict(sentences, len(sentences))\n",
        "\n",
        "    print('Sample 1:')\n",
        "    print(' '.join([y_id_to_word[np.argmax(x)] for x in predictions[0]]))\n",
        "    print('Il a vu un vieux camion jaune')\n",
        "    print('Sample 2:')\n",
        "    print(' '.join([y_id_to_word[np.argmax(x)] for x in predictions[1]]))\n",
        "    print(' '.join([y_id_to_word[np.max(x)] for x in y[0]]))\n",
        "\n",
        "\n",
        "final_predictions(preproc_english_sentences, preproc_french_sentences, english_tokenizer, french_tokenizer)"
      ],
      "execution_count": null,
      "outputs": [
        {
          "output_type": "stream",
          "text": [
            "Model: \"sequential_4\"\n",
            "_________________________________________________________________\n",
            "Layer (type)                 Output Shape              Param #   \n",
            "=================================================================\n",
            "embedding_2 (Embedding)      (None, 15, 128)           25600     \n",
            "_________________________________________________________________\n",
            "bidirectional (Bidirectional (None, 256)               198144    \n",
            "_________________________________________________________________\n",
            "repeat_vector_1 (RepeatVecto (None, 21, 256)           0         \n",
            "_________________________________________________________________\n",
            "bidirectional_1 (Bidirection (None, 21, 256)           296448    \n",
            "_________________________________________________________________\n",
            "time_distributed_8 (TimeDist (None, 21, 512)           131584    \n",
            "_________________________________________________________________\n",
            "dropout_4 (Dropout)          (None, 21, 512)           0         \n",
            "_________________________________________________________________\n",
            "time_distributed_9 (TimeDist (None, 21, 345)           176985    \n",
            "=================================================================\n",
            "Total params: 828,761\n",
            "Trainable params: 828,761\n",
            "Non-trainable params: 0\n",
            "_________________________________________________________________\n",
            "Epoch 1/25\n",
            "108/108 [==============================] - 12s 68ms/step - loss: 3.3178 - accuracy: 0.4151 - val_loss: 1.6385 - val_accuracy: 0.5876\n",
            "Epoch 2/25\n",
            "108/108 [==============================] - 6s 59ms/step - loss: 1.5668 - accuracy: 0.5921 - val_loss: 1.2604 - val_accuracy: 0.6520\n",
            "Epoch 3/25\n",
            "108/108 [==============================] - 6s 59ms/step - loss: 1.2332 - accuracy: 0.6581 - val_loss: 0.9913 - val_accuracy: 0.7174\n",
            "Epoch 4/25\n",
            "108/108 [==============================] - 6s 59ms/step - loss: 1.0317 - accuracy: 0.7017 - val_loss: 0.8155 - val_accuracy: 0.7557\n",
            "Epoch 5/25\n",
            "108/108 [==============================] - 6s 59ms/step - loss: 0.8634 - accuracy: 0.7400 - val_loss: 0.6702 - val_accuracy: 0.7936\n",
            "Epoch 6/25\n",
            "108/108 [==============================] - 6s 59ms/step - loss: 0.7175 - accuracy: 0.7766 - val_loss: 0.6339 - val_accuracy: 0.7993\n",
            "Epoch 7/25\n",
            "108/108 [==============================] - 6s 59ms/step - loss: 0.6218 - accuracy: 0.8038 - val_loss: 0.4388 - val_accuracy: 0.8646\n",
            "Epoch 8/25\n",
            "108/108 [==============================] - 6s 59ms/step - loss: 0.4964 - accuracy: 0.8426 - val_loss: 0.3647 - val_accuracy: 0.8870\n",
            "Epoch 9/25\n",
            "108/108 [==============================] - 6s 59ms/step - loss: 0.4241 - accuracy: 0.8649 - val_loss: 0.2968 - val_accuracy: 0.9089\n",
            "Epoch 10/25\n",
            "108/108 [==============================] - 6s 59ms/step - loss: 0.3491 - accuracy: 0.8907 - val_loss: 0.2346 - val_accuracy: 0.9328\n",
            "Epoch 11/25\n",
            "108/108 [==============================] - 6s 59ms/step - loss: 0.2860 - accuracy: 0.9130 - val_loss: 0.1992 - val_accuracy: 0.9455\n",
            "Epoch 12/25\n",
            "108/108 [==============================] - 6s 59ms/step - loss: 0.2395 - accuracy: 0.9296 - val_loss: 0.1761 - val_accuracy: 0.9514\n",
            "Epoch 13/25\n",
            "108/108 [==============================] - 6s 59ms/step - loss: 0.2111 - accuracy: 0.9384 - val_loss: 0.1439 - val_accuracy: 0.9592\n",
            "Epoch 14/25\n",
            "108/108 [==============================] - 6s 59ms/step - loss: 0.1800 - accuracy: 0.9474 - val_loss: 0.1297 - val_accuracy: 0.9624\n",
            "Epoch 15/25\n",
            "108/108 [==============================] - 6s 59ms/step - loss: 0.1747 - accuracy: 0.9490 - val_loss: 0.6663 - val_accuracy: 0.7677\n",
            "Epoch 16/25\n",
            "108/108 [==============================] - 6s 59ms/step - loss: 0.4431 - accuracy: 0.8584 - val_loss: 0.1320 - val_accuracy: 0.9627\n",
            "Epoch 17/25\n",
            "108/108 [==============================] - 6s 59ms/step - loss: 0.1710 - accuracy: 0.9502 - val_loss: 0.1168 - val_accuracy: 0.9656\n",
            "Epoch 18/25\n",
            "108/108 [==============================] - 6s 59ms/step - loss: 0.1509 - accuracy: 0.9556 - val_loss: 0.1156 - val_accuracy: 0.9672\n",
            "Epoch 19/25\n",
            "108/108 [==============================] - 6s 59ms/step - loss: 0.1340 - accuracy: 0.9607 - val_loss: 0.1063 - val_accuracy: 0.9694\n",
            "Epoch 20/25\n",
            "108/108 [==============================] - 6s 59ms/step - loss: 0.1201 - accuracy: 0.9641 - val_loss: 0.0948 - val_accuracy: 0.9727\n",
            "Epoch 21/25\n",
            "108/108 [==============================] - 6s 59ms/step - loss: 0.1055 - accuracy: 0.9687 - val_loss: 0.0905 - val_accuracy: 0.9746\n",
            "Epoch 22/25\n",
            "108/108 [==============================] - 6s 59ms/step - loss: 0.1063 - accuracy: 0.9685 - val_loss: 0.0951 - val_accuracy: 0.9735\n",
            "Epoch 23/25\n",
            "108/108 [==============================] - 6s 59ms/step - loss: 0.0992 - accuracy: 0.9707 - val_loss: 0.0842 - val_accuracy: 0.9758\n",
            "Epoch 24/25\n",
            "108/108 [==============================] - 6s 59ms/step - loss: 0.0981 - accuracy: 0.9709 - val_loss: 0.1232 - val_accuracy: 0.9665\n",
            "Epoch 25/25\n",
            "108/108 [==============================] - 6s 59ms/step - loss: 0.1408 - accuracy: 0.9582 - val_loss: 0.0784 - val_accuracy: 0.9783\n",
            "WARNING:tensorflow:5 out of the last 8 calls to <function Model.make_predict_function.<locals>.predict_function at 0x7f1817090290> triggered tf.function retracing. Tracing is expensive and the excessive number of tracings could be due to (1) creating @tf.function repeatedly in a loop, (2) passing tensors with different shapes, (3) passing Python objects instead of tensors. For (1), please define your @tf.function outside of the loop. For (2), @tf.function has experimental_relax_shapes=True option that relaxes argument shapes that can avoid unnecessary retracing. For (3), please refer to https://www.tensorflow.org/guide/function#controlling_retracing and https://www.tensorflow.org/api_docs/python/tf/function for  more details.\n",
            "Sample 1:\n",
            "il a vu un vieux camion jaune <PAD> <PAD> <PAD> <PAD> <PAD> <PAD> <PAD> <PAD> <PAD> <PAD> <PAD> <PAD> <PAD> <PAD>\n",
            "Il a vu un vieux camion jaune\n",
            "Sample 2:\n",
            "new jersey est parfois calme à l'automne automne et il est neigeux en avril <PAD> <PAD> <PAD> <PAD> <PAD> <PAD> <PAD>\n",
            "new jersey est parfois calme pendant l' automne et il est neigeux en avril <PAD> <PAD> <PAD> <PAD> <PAD> <PAD> <PAD>\n"
          ],
          "name": "stdout"
        }
      ]
    },
    {
      "cell_type": "code",
      "metadata": {
        "id": "PEej36VRMeib"
      },
      "source": [
        ""
      ],
      "execution_count": null,
      "outputs": []
    },
    {
      "cell_type": "code",
      "metadata": {
        "id": "t05ZEGxaMPWr"
      },
      "source": [
        ""
      ],
      "execution_count": null,
      "outputs": []
    },
    {
      "cell_type": "code",
      "metadata": {
        "id": "ZU-dXwROMNAi"
      },
      "source": [
        ""
      ],
      "execution_count": null,
      "outputs": []
    }
  ]
}